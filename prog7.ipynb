{
  "nbformat": 4,
  "nbformat_minor": 0,
  "metadata": {
    "colab": {
      "name": "prog7.ipynb",
      "provenance": [],
      "mount_file_id": "1umQczch7m_p1f1rRnSxTExiE1SQ5rKXh",
      "authorship_tag": "ABX9TyNbWCmyUh5AZumRLgTxLMPI",
      "include_colab_link": true
    },
    "kernelspec": {
      "name": "python3",
      "display_name": "Python 3"
    }
  },
  "cells": [
    {
      "cell_type": "markdown",
      "metadata": {
        "id": "view-in-github",
        "colab_type": "text"
      },
      "source": [
        "<a href=\"https://colab.research.google.com/github/HariPranav/databaseprac/blob/master/prog7.ipynb\" target=\"_parent\"><img src=\"https://colab.research.google.com/assets/colab-badge.svg\" alt=\"Open In Colab\"/></a>"
      ]
    },
    {
      "cell_type": "code",
      "metadata": {
        "colab": {
          "base_uri": "https://localhost:8080/"
        },
        "id": "llFbBVXVeVaw",
        "outputId": "d8abdbbf-97ab-454d-8062-75fe0e205428"
      },
      "source": [
        "# prog 7 , BMV , \r\n",
        "import pandas as pd\r\n",
        "import numpy as np\r\n",
        "!pip install pgmpy"
      ],
      "execution_count": 2,
      "outputs": [
        {
          "output_type": "stream",
          "text": [
            "Collecting pgmpy\n",
            "\u001b[?25l  Downloading https://files.pythonhosted.org/packages/06/19/d508949e8ac7b32e639f15e854a5f5ed710a4118e4f6692bddaccc390d88/pgmpy-0.1.13-py3-none-any.whl (324kB)\n",
            "\r\u001b[K     |█                               | 10kB 19.5MB/s eta 0:00:01\r\u001b[K     |██                              | 20kB 23.6MB/s eta 0:00:01\r\u001b[K     |███                             | 30kB 20.3MB/s eta 0:00:01\r\u001b[K     |████                            | 40kB 17.1MB/s eta 0:00:01\r\u001b[K     |█████                           | 51kB 17.0MB/s eta 0:00:01\r\u001b[K     |██████                          | 61kB 19.3MB/s eta 0:00:01\r\u001b[K     |███████                         | 71kB 13.6MB/s eta 0:00:01\r\u001b[K     |████████                        | 81kB 14.2MB/s eta 0:00:01\r\u001b[K     |█████████                       | 92kB 13.7MB/s eta 0:00:01\r\u001b[K     |██████████                      | 102kB 13.0MB/s eta 0:00:01\r\u001b[K     |███████████                     | 112kB 13.0MB/s eta 0:00:01\r\u001b[K     |████████████▏                   | 122kB 13.0MB/s eta 0:00:01\r\u001b[K     |█████████████▏                  | 133kB 13.0MB/s eta 0:00:01\r\u001b[K     |██████████████▏                 | 143kB 13.0MB/s eta 0:00:01\r\u001b[K     |███████████████▏                | 153kB 13.0MB/s eta 0:00:01\r\u001b[K     |████████████████▏               | 163kB 13.0MB/s eta 0:00:01\r\u001b[K     |█████████████████▏              | 174kB 13.0MB/s eta 0:00:01\r\u001b[K     |██████████████████▏             | 184kB 13.0MB/s eta 0:00:01\r\u001b[K     |███████████████████▏            | 194kB 13.0MB/s eta 0:00:01\r\u001b[K     |████████████████████▏           | 204kB 13.0MB/s eta 0:00:01\r\u001b[K     |█████████████████████▏          | 215kB 13.0MB/s eta 0:00:01\r\u001b[K     |██████████████████████▏         | 225kB 13.0MB/s eta 0:00:01\r\u001b[K     |███████████████████████▎        | 235kB 13.0MB/s eta 0:00:01\r\u001b[K     |████████████████████████▎       | 245kB 13.0MB/s eta 0:00:01\r\u001b[K     |█████████████████████████▎      | 256kB 13.0MB/s eta 0:00:01\r\u001b[K     |██████████████████████████▎     | 266kB 13.0MB/s eta 0:00:01\r\u001b[K     |███████████████████████████▎    | 276kB 13.0MB/s eta 0:00:01\r\u001b[K     |████████████████████████████▎   | 286kB 13.0MB/s eta 0:00:01\r\u001b[K     |█████████████████████████████▎  | 296kB 13.0MB/s eta 0:00:01\r\u001b[K     |██████████████████████████████▎ | 307kB 13.0MB/s eta 0:00:01\r\u001b[K     |███████████████████████████████▎| 317kB 13.0MB/s eta 0:00:01\r\u001b[K     |████████████████████████████████| 327kB 13.0MB/s \n",
            "\u001b[?25hRequirement already satisfied: networkx in /usr/local/lib/python3.6/dist-packages (from pgmpy) (2.5)\n",
            "Requirement already satisfied: pyparsing in /usr/local/lib/python3.6/dist-packages (from pgmpy) (2.4.7)\n",
            "Requirement already satisfied: scipy in /usr/local/lib/python3.6/dist-packages (from pgmpy) (1.4.1)\n",
            "Requirement already satisfied: pandas in /usr/local/lib/python3.6/dist-packages (from pgmpy) (1.1.5)\n",
            "Requirement already satisfied: joblib in /usr/local/lib/python3.6/dist-packages (from pgmpy) (1.0.0)\n",
            "Requirement already satisfied: tqdm in /usr/local/lib/python3.6/dist-packages (from pgmpy) (4.41.1)\n",
            "Requirement already satisfied: torch in /usr/local/lib/python3.6/dist-packages (from pgmpy) (1.7.0+cu101)\n",
            "Requirement already satisfied: statsmodels in /usr/local/lib/python3.6/dist-packages (from pgmpy) (0.10.2)\n",
            "Requirement already satisfied: numpy in /usr/local/lib/python3.6/dist-packages (from pgmpy) (1.19.5)\n",
            "Requirement already satisfied: scikit-learn in /usr/local/lib/python3.6/dist-packages (from pgmpy) (0.22.2.post1)\n",
            "Requirement already satisfied: decorator>=4.3.0 in /usr/local/lib/python3.6/dist-packages (from networkx->pgmpy) (4.4.2)\n",
            "Requirement already satisfied: pytz>=2017.2 in /usr/local/lib/python3.6/dist-packages (from pandas->pgmpy) (2018.9)\n",
            "Requirement already satisfied: python-dateutil>=2.7.3 in /usr/local/lib/python3.6/dist-packages (from pandas->pgmpy) (2.8.1)\n",
            "Requirement already satisfied: future in /usr/local/lib/python3.6/dist-packages (from torch->pgmpy) (0.16.0)\n",
            "Requirement already satisfied: typing-extensions in /usr/local/lib/python3.6/dist-packages (from torch->pgmpy) (3.7.4.3)\n",
            "Requirement already satisfied: dataclasses in /usr/local/lib/python3.6/dist-packages (from torch->pgmpy) (0.8)\n",
            "Requirement already satisfied: patsy>=0.4.0 in /usr/local/lib/python3.6/dist-packages (from statsmodels->pgmpy) (0.5.1)\n",
            "Requirement already satisfied: six>=1.5 in /usr/local/lib/python3.6/dist-packages (from python-dateutil>=2.7.3->pandas->pgmpy) (1.15.0)\n",
            "Installing collected packages: pgmpy\n",
            "Successfully installed pgmpy-0.1.13\n"
          ],
          "name": "stdout"
        }
      ]
    },
    {
      "cell_type": "code",
      "metadata": {
        "id": "EggXV_pAg4q9"
      },
      "source": [
        "from pgmpy.models import BayesianModel"
      ],
      "execution_count": 3,
      "outputs": []
    },
    {
      "cell_type": "code",
      "metadata": {
        "id": "l-eHfJ1ZhUSM"
      },
      "source": [
        "from pgmpy.estimators import MaximumLikelihoodEstimator"
      ],
      "execution_count": 4,
      "outputs": []
    },
    {
      "cell_type": "code",
      "metadata": {
        "id": "mCinXqLRhhBf"
      },
      "source": [
        "d=pd.read_csv(\"/content/drive/MyDrive/datasets/Prog7_heart disease.csv\")"
      ],
      "execution_count": 6,
      "outputs": []
    },
    {
      "cell_type": "code",
      "metadata": {
        "id": "chQoVUwsh1aQ"
      },
      "source": [
        "data=pd.DataFrame(d)"
      ],
      "execution_count": 8,
      "outputs": []
    },
    {
      "cell_type": "code",
      "metadata": {
        "colab": {
          "base_uri": "https://localhost:8080/"
        },
        "id": "E6twJKmHh6pu",
        "outputId": "b08cec6c-d815-4c16-e00c-df1ea8192a2c"
      },
      "source": [
        "print(data)"
      ],
      "execution_count": 9,
      "outputs": [
        {
          "output_type": "stream",
          "text": [
            "    age  Gender  Family  diet  Lifestyle  cholestrol  heartdisease\n",
            "0     0       0       1     1          3           0             1\n",
            "1     0       1       1     1          3           0             1\n",
            "2     1       0       0     0          2           1             1\n",
            "3     4       0       1     1          3           2             0\n",
            "4     3       1       1     0          0           2             0\n",
            "5     2       0       1     1          1           0             1\n",
            "6     4       0       1     0          2           0             1\n",
            "7     0       0       1     1          3           0             1\n",
            "8     3       1       1     0          0           2             0\n",
            "9     1       1       0     0          0           2             1\n",
            "10    4       1       0     1          2           0             1\n",
            "11    4       0       1     1          3           2             0\n",
            "12    2       1       0     0          0           0             0\n",
            "13    2       0       1     1          1           0             1\n",
            "14    3       1       1     0          0           1             0\n",
            "15    0       0       1     0          0           2             1\n",
            "16    1       1       0     1          2           1             1\n",
            "17    3       1       1     1          0           1             0\n",
            "18    4       0       1     1          3           2             0\n"
          ],
          "name": "stdout"
        }
      ]
    },
    {
      "cell_type": "code",
      "metadata": {
        "id": "Ohlf0avlh-oA"
      },
      "source": [
        "# models to give relations , fit according to maximum likelihood\r\n",
        "# Use variable eliminator and query along with evidence\r\n",
        "\r\n",
        "models=BayesianModel([('age','Gender'),('Family','diet'),('Lifestyle','cholestrol'),('heartdisease','cholestrol'),('heartdisease','diet'),('heartdisease','Family') ])\r\n"
      ],
      "execution_count": 14,
      "outputs": []
    },
    {
      "cell_type": "code",
      "metadata": {
        "colab": {
          "base_uri": "https://localhost:8080/"
        },
        "id": "yotOZdL-iowq",
        "outputId": "6f7541c6-e969-497d-8286-f0739df93f5d"
      },
      "source": [
        "from pgmpy.inference import VariableElimination\r\n",
        "models.fit(data,estimator=MaximumLikelihoodEstimator)\r\n",
        "\r\n",
        "heartdisease_infer=VariableElimination(models)\r\n",
        "print(\"for oldage:0 , middle:1, young:2 ,baby:3\")\r\n",
        "\r\n",
        "q=heartdisease_infer.query(variables=['heartdisease'],\r\n",
        "evidence={'age':int(input(\"enter the age\")),\r\n",
        "          'Gender':int(input(\"enter the gender\")),\r\n",
        "          'Family':int(input(\"enter the family history\")),\r\n",
        "          'diet':int(input(\"enter the diet\")),\r\n",
        "          'Lifestyle':int(input(\"enter the lifestyle\")),\r\n",
        "          'cholestrol':int(input(\"enter the age\")),\r\n",
        "          })\r\n",
        "print(q)"
      ],
      "execution_count": 16,
      "outputs": [
        {
          "output_type": "stream",
          "text": [
            "WARNING:root:Replacing existing CPD for Family\n",
            "WARNING:root:Replacing existing CPD for Gender\n",
            "WARNING:root:Replacing existing CPD for Lifestyle\n",
            "WARNING:root:Replacing existing CPD for age\n",
            "WARNING:root:Replacing existing CPD for cholestrol\n",
            "WARNING:root:Replacing existing CPD for diet\n",
            "WARNING:root:Replacing existing CPD for heartdisease\n"
          ],
          "name": "stderr"
        },
        {
          "output_type": "stream",
          "text": [
            "for oldage:0 , middle:1, young:2 ,baby:3\n",
            "enter the age1\n",
            "enter the gender1\n",
            "enter the family history1\n",
            "enter the diet1\n",
            "enter the lifestyle1\n",
            "enter the age1\n"
          ],
          "name": "stdout"
        },
        {
          "output_type": "stream",
          "text": [
            "Finding Elimination Order: : : 0it [00:00, ?it/s]\n",
            "0it [00:00, ?it/s]"
          ],
          "name": "stderr"
        },
        {
          "output_type": "stream",
          "text": [
            "+-----------------+---------------------+\n",
            "| heartdisease    |   phi(heartdisease) |\n",
            "+=================+=====================+\n",
            "| heartdisease(0) |              1.0000 |\n",
            "+-----------------+---------------------+\n",
            "| heartdisease(1) |              0.0000 |\n",
            "+-----------------+---------------------+\n"
          ],
          "name": "stdout"
        },
        {
          "output_type": "stream",
          "text": [
            "\n"
          ],
          "name": "stderr"
        }
      ]
    },
    {
      "cell_type": "code",
      "metadata": {
        "id": "yBJByOXSj2mD"
      },
      "source": [
        ""
      ],
      "execution_count": 15,
      "outputs": []
    }
  ]
}